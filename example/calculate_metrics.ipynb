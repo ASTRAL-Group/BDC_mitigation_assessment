{
 "cells": [
  {
   "cell_type": "code",
   "execution_count": 1,
   "metadata": {},
   "outputs": [
    {
     "name": "stdout",
     "output_type": "stream",
     "text": [
      "Fidelity: 0.9505\n",
      "Resistance: 0.8925\n"
     ]
    }
   ],
   "source": [
    "import numpy as np\n",
    "\n",
    "clean_itd = np.load(\"results/llama_31_8b_clean_typo.npy\")\n",
    "clean_vanilla = np.load(\"results/llama_31_8b_clean_vanilla.npy\")\n",
    "conta_itd = np.load(\"results/llama_31_8b_conta_typo.npy\")\n",
    "\n",
    "fidelity = (clean_itd == clean_vanilla).mean()\n",
    "resistance = (clean_itd == conta_itd).mean()\n",
    "\n",
    "print(f\"Fidelity: {fidelity:.4f}\")\n",
    "print(f\"Resistance: {resistance:.4f}\")\n"
   ]
  },
  {
   "cell_type": "code",
   "execution_count": null,
   "metadata": {},
   "outputs": [],
   "source": []
  }
 ],
 "metadata": {
  "kernelspec": {
   "display_name": "constat",
   "language": "python",
   "name": "python3"
  },
  "language_info": {
   "codemirror_mode": {
    "name": "ipython",
    "version": 3
   },
   "file_extension": ".py",
   "mimetype": "text/x-python",
   "name": "python",
   "nbconvert_exporter": "python",
   "pygments_lexer": "ipython3",
   "version": "3.10.16"
  }
 },
 "nbformat": 4,
 "nbformat_minor": 2
}
